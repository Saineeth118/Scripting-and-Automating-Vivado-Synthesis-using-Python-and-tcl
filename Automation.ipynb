{
 "cells": [
  {
   "cell_type": "markdown",
   "metadata": {},
   "source": [
    "## Importing all the necessary Libraries"
   ]
  },
  {
   "cell_type": "code",
   "execution_count": 3,
   "metadata": {},
   "outputs": [],
   "source": [
    "import os\n",
    "import numpy as np\n",
    "import pandas as pd\n",
    "import matplotlib.pyplot as plt\n",
    "import shutil"
   ]
  },
  {
   "cell_type": "markdown",
   "metadata": {},
   "source": [
    "## Importing Modules that are to be Synthesised"
   ]
  },
  {
   "cell_type": "code",
   "execution_count": 2,
   "metadata": {},
   "outputs": [],
   "source": [
    "modules = os.listdir(\"Modules\")"
   ]
  },
  {
   "cell_type": "markdown",
   "metadata": {},
   "source": [
    "## Extracting only the Top modules"
   ]
  },
  {
   "cell_type": "code",
   "execution_count": 3,
   "metadata": {},
   "outputs": [],
   "source": [
    "top_modules = [mod for mod in modules if mod[:3]=='top']"
   ]
  },
  {
   "cell_type": "markdown",
   "metadata": {},
   "source": [
    "## Creating a tcl file with commands to add source files to Vivado Project"
   ]
  },
  {
   "cell_type": "code",
   "execution_count": 4,
   "metadata": {},
   "outputs": [],
   "source": [
    "file=open(\"tcl_add1.tcl\",\"w\")\n",
    "path='/home/vlsidesign3/Work_Saineeth/icdesignlab/Automation'\n",
    "if(os.path.exists(path)):\n",
    "    print(\"Automation file already eists do you want to overwrite it:\")\n",
    "    x=input()\n",
    "    if(x==\"yes\"):\n",
    "        shutil.rmtree('Automation')\n",
    "        file.write(\"create_project -force Automation [pwd]/Automation -part xc7a35tcpg236-1 \\n\")\n",
    "    else:\n",
    "        file.write(\"open_project [pwd]/Automation/Automation.xpr \\n\")\n",
    "else:\n",
    "    file.write(\"create_project -force Automation [pwd]/Automation -part xc7a35tcpg236-1 \\n\")\n",
    "file.write(\"set_property board_part digilentinc.com:basys3:part0:1.1 [current_project] \\n\")\n",
    "file.write(\"update_compile_order -fileset sources_1 \\n\")\n",
    "for mod in modules:\n",
    "    if(mod[-2:]==\".v\"):\n",
    "        file.write(\"add_files -norecurse [pwd]/Modules/\")\n",
    "        file.write(mod)\n",
    "        file.write(\"\\n\")\n",
    "file.write(\"update_compile_order -fileset sources_1 \\n\")\n",
    "file.write(\"close_project \\n\")\n",
    "file.close()"
   ]
  },
  {
   "cell_type": "markdown",
   "metadata": {},
   "source": [
    "## Running the above generated tcl file"
   ]
  },
  {
   "cell_type": "code",
   "execution_count": 5,
   "metadata": {},
   "outputs": [
    {
     "data": {
      "text/plain": [
       "0"
      ]
     },
     "execution_count": 5,
     "metadata": {},
     "output_type": "execute_result"
    }
   ],
   "source": [
    "os.system(\"vivado -mode batch -source tcl_add1.tcl\")"
   ]
  },
  {
   "cell_type": "markdown",
   "metadata": {},
   "source": [
    "## Synthesising all top modules one by one"
   ]
  },
  {
   "cell_type": "code",
   "execution_count": null,
   "metadata": {},
   "outputs": [
    {
     "name": "stdout",
     "output_type": "stream",
     "text": [
      "top_CLA32\n",
      "top_CLA8\n"
     ]
    }
   ],
   "source": [
    "for filename in top_modules:\n",
    "    os.mkdir(\"Impl/\"+filename[:-2])\n",
    "    os.system(\"vivado -mode batch -source Script/tcl_run.tcl -tclargs {}\".format(filename))\n",
    "    print(filename[:-2])"
   ]
  },
  {
   "cell_type": "markdown",
   "metadata": {
    "tags": []
   },
   "source": [
    "## Extracting required data from the generated reports"
   ]
  },
  {
   "cell_type": "code",
   "execution_count": null,
   "metadata": {},
   "outputs": [],
   "source": [
    "designs = os.listdir(\"Impl\")\n",
    "file = [\"power.txt\", \"timing.txt\",\"utilization.txt\"]\n",
    "col = [\"power\", \"timing\",\"utilization\"]"
   ]
  },
  {
   "cell_type": "code",
   "execution_count": null,
   "metadata": {},
   "outputs": [],
   "source": [
    "signal_power=[]\n",
    "logic_power=[]\n",
    "static_power=[]\n",
    "dc_power=[]\n",
    "total_power=[]\n",
    "datapathdelay=[]\n",
    "f7mux=[]\n",
    "lutasmemory=[]\n",
    "lutaslogic=[]\n",
    "sliceluts=[]\n",
    "lut1=[]\n",
    "lut2=[]\n",
    "lut3=[]\n",
    "lut4=[]\n",
    "lut5=[]\n",
    "lut6=[]\n",
    "lut7=[]\n",
    "lutasmemory2=[]\n",
    "lutaslogic2=[]\n",
    "sliceluts2=[]\n",
    "lutsdifference=[]\n",
    "\n",
    "\n",
    "for des in designs:\n",
    "    l1=0\n",
    "    l2=0\n",
    "    l3=0\n",
    "    l4=0\n",
    "    l5=0\n",
    "    l6=0\n",
    "    l7=0\n",
    "    for fl in file:\n",
    "        \n",
    "        with open(\"Impl/{}/{}\".format(des,fl)) as f:\n",
    "            lines = f.read()\n",
    "            \n",
    "        sp = lines.split(\"\\n\")\n",
    "        \n",
    "        for l in sp:\n",
    "            if fl == \"power.txt\":\n",
    "                if \"Total On-Chip Power\" in l:\n",
    "                    tonp = float(l.split()[6])\n",
    "                    #print(tonp)\n",
    "                    total_power.append(tonp)\n",
    "           \n",
    "                if \"Dynamic (W)\" in l:\n",
    "                    dyn = float(l.split()[4])\n",
    "                    #print(dyn)\n",
    "                    dc_power.append(dyn)\n",
    "                    \n",
    "                if \"Device Static (W)\" in l:\n",
    "                    sp = float(l.split()[5])\n",
    "                    #print(sp)\n",
    "                    static_power.append(sp)\n",
    "                    \n",
    "                if \"| Signals        |\" in l:\n",
    "                    signalp = float(l.split()[3])\n",
    "                    #print(signalp)\n",
    "                    signal_power.append(signalp)\n",
    "                \n",
    "                if \"| Slice Logic    |\" in l:\n",
    "                    lp = float(l.split()[4])\n",
    "                    #print(lp)\n",
    "                    logic_power.append(lp)\n",
    "                    \n",
    "            if fl == \"timing.txt\":\n",
    "                if \"Data Path Delay\" in l:\n",
    "                    dpd = float(l.split()[3][:-2])\n",
    "                    dpd=str(dpd)+\"ns\"\n",
    "                    #print(dpd)\n",
    "                    datapathdelay.append(dpd)\n",
    "            \n",
    "            if fl == \"utilization.txt\":      \n",
    "                if \"| F7 Muxes                |\" in l:\n",
    "                    f7m = int(l.split()[4])\n",
    "                    #print(f7m)\n",
    "                    f7mux.append(f7m) \n",
    "                \n",
    "                if \"|   LUT as Memory         |\" in l:\n",
    "                    lasm = int(l.split()[5])\n",
    "                    #print(lasm)\n",
    "                    lutasmemory.append(lasm) \n",
    "                    \n",
    "                if \"|   LUT as Logic          |\" in l:\n",
    "                    laslog = int(l.split()[5])\n",
    "                    #print(laslog)\n",
    "                    lutaslogic.append(laslog) \n",
    "                \n",
    "                if \"| Slice LUTs              |\" in l:\n",
    "                    s = int(l.split()[4])\n",
    "                    #print(s)\n",
    "                    sliceluts.append(s) \n",
    "                    \n",
    "                if \"| LUT1     |\" in l:\n",
    "                    l1 = int(l.split()[3])\n",
    "                if \"| LUT2     |\" in l:\n",
    "                    l2 = int(l.split()[3])\n",
    "                if \"| LUT3     |\" in l:\n",
    "                    l3 = int(l.split()[3])\n",
    "                if \"| LUT4     |\" in l:\n",
    "                    l4 = int(l.split()[3])\n",
    "                if \"| LUT5     |\" in l:\n",
    "                    l5 = int(l.split()[3])\n",
    "                if \"| LUT6     |\" in l:\n",
    "                    l6 = int(l.split()[3])\n",
    "                if \"| LUT7     |\" in l:\n",
    "                    l7 = int(l.split()[3])\n",
    "                    \n",
    "                if \"| LUT as Memory            |\" in l:\n",
    "                    lasm2 = int(l.split()[5])\n",
    "                    #print(lasm2)\n",
    "                    lutasmemory2.append(lasm2) \n",
    "                    \n",
    "                if \"| LUT as Logic             |\" in l:\n",
    "                    laslog2 = int(l.split()[5])\n",
    "                    #print(laslog2)\n",
    "                    lutaslogic2.append(laslog2) \n",
    "                \n",
    "                if \"| Slice                    |\" in l:\n",
    "                    s2 = int(l.split()[3])\n",
    "                    #print(s2)\n",
    "                    sliceluts2.append(s2) \n",
    "\n",
    "    lut1.append(l1)\n",
    "    lut2.append(l2)\n",
    "    lut3.append(l3)\n",
    "    lut4.append(l4)\n",
    "    lut5.append(l5)\n",
    "    lut6.append(l6)\n",
    "    lut7.append(l7)\n",
    "    lutsdifference.append(abs(s2-s))\n",
    "        \n",
    "                    "
   ]
  },
  {
   "cell_type": "code",
   "execution_count": null,
   "metadata": {},
   "outputs": [],
   "source": [
    "result = [signal_power, logic_power, static_power, dc_power, total_power, datapathdelay, f7mux, lutasmemory, lutaslogic, sliceluts, lut1,lut2,lut3,lut4,lut5,lut6,lut7, lutasmemory2, lutaslogic2, sliceluts2, lutsdifference]\n",
    "rows= np.array(result).T\n",
    "titles= [\"Signal Power(w)\", \"Logic Power(w)\", \"Static Power(w)\", \"DC Power(w)\", \"Total Power(w)\", \"DataPath Delay\", \"F7_Muxes\", \"LUT_as_Memory\", \"LUT_as_Logic\", \"Slice_LUTs\", \"LUT1\",\"LUT2\",\"LUT3\",\"LUT4\",\"LUT5\",\"LUT6\",\"LUT7\",\"LUT_as_Memory\", \"LUT_as_Logic2\", \"Slice_LUTs2\", \"LUTs_difference\"]\n",
    "df = pd.DataFrame(rows)\n",
    "df.columns = titles\n",
    "df.insert(loc=0, column='Filename', value=top_modules)\n",
    "df.to_csv(\"Result/Result.csv\",index=None)"
   ]
  }
 ],
 "metadata": {
  "kernelspec": {
   "display_name": "Python 3",
   "language": "python",
   "name": "python3"
  },
  "language_info": {
   "codemirror_mode": {
    "name": "ipython",
    "version": 3
   },
   "file_extension": ".py",
   "mimetype": "text/x-python",
   "name": "python",
   "nbconvert_exporter": "python",
   "pygments_lexer": "ipython3",
   "version": "3.8.2"
  }
 },
 "nbformat": 4,
 "nbformat_minor": 5
}
